{
 "cells": [
  {
   "cell_type": "markdown",
   "id": "f975b55e",
   "metadata": {},
   "source": [
    "Write a Python program to get name of the days of in week and show \"Holiday\" if user input Sunday or Friday"
   ]
  },
  {
   "cell_type": "code",
   "execution_count": 6,
   "id": "9b4a572a",
   "metadata": {},
   "outputs": [
    {
     "name": "stdout",
     "output_type": "stream",
     "text": [
      "enter a day:Friday\n",
      "Holiday\n"
     ]
    }
   ],
   "source": [
    "Days_week = input(\"enter a day:\").capitalize()\n",
    "if (Days_week == \"Sunday\") or (Days_week == \"Friday\"):\n",
    "    print(\"Holiday\")\n",
    "else:\n",
    "    print(\"Workday\")"
   ]
  },
  {
   "cell_type": "code",
   "execution_count": 10,
   "id": "3c65dca4",
   "metadata": {},
   "outputs": [
    {
     "name": "stdout",
     "output_type": "stream",
     "text": [
      "enter a day:Tuesday\n",
      "Workday\n"
     ]
    }
   ],
   "source": [
    "Days_week = input(\"enter a day:\").capitalize()\n",
    "if (Days_week == \"Monday\") or (Days_week == \"Tuesday\")or (Days_week == \"Wednesday\")or (Days_week == \"Thursday\") or (Days_week == \"Saturday\"):\n",
    "    print(\"Workday\")\n",
    "else:\n",
    "    print(\"Holiday\")"
   ]
  },
  {
   "cell_type": "code",
   "execution_count": null,
   "id": "bf372c0f",
   "metadata": {},
   "outputs": [],
   "source": []
  }
 ],
 "metadata": {
  "kernelspec": {
   "display_name": "Python 3 (ipykernel)",
   "language": "python",
   "name": "python3"
  },
  "language_info": {
   "codemirror_mode": {
    "name": "ipython",
    "version": 3
   },
   "file_extension": ".py",
   "mimetype": "text/x-python",
   "name": "python",
   "nbconvert_exporter": "python",
   "pygments_lexer": "ipython3",
   "version": "3.10.9"
  }
 },
 "nbformat": 4,
 "nbformat_minor": 5
}
